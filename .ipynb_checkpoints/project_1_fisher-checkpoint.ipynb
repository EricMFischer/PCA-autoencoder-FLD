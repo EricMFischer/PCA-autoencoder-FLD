{
 "cells": [
  {
   "cell_type": "code",
   "execution_count": 3,
   "metadata": {},
   "outputs": [
    {
     "name": "stdout",
     "output_type": "stream",
     "text": [
      "male:  (128, 128, 3)\n",
      "female:  (128, 128, 3)\n"
     ]
    }
   ],
   "source": [
    "import os\n",
    "import sys\n",
    "sys.path.append('/Library/Frameworks/Python.framework/Versions/3.7/lib/python3.7/site-packages')\n",
    "import numpy as np\n",
    "np.seterr(divide='ignore', invalid='ignore')\n",
    "import matplotlib.pyplot as plt\n",
    "from skimage.io import imread_collection\n",
    "\n",
    "def calc_mean(imgs):\n",
    "    imgs_sum = np.zeros(np.shape(imgs[0]))\n",
    "    for x in imgs:\n",
    "        imgs_sum += x\n",
    "    return imgs_sum / len(imgs)\n",
    "\n",
    "def calc_covar_matr(imgs, mean_img):\n",
    "#     flat_imgs = []\n",
    "#     for x in norm_imgs:\n",
    "#         flat_imgs.append(x.flatten())\n",
    "#     return np.matr(flat_imgs)\n",
    "    \n",
    "def run_fisher():\n",
    "    # ----------------------- Fisher: Question 1 ------------------------\n",
    "    # Divide 1000 faces into 800 training and 200 test\n",
    "    images = imread_collection('./images/*.jpg')\n",
    "    train, test = images[:800], images[800:]\n",
    "    images_male = imread_collection('./male_images/*.jpg')\n",
    "    images_female = imread_collection('./female_images/*.jpg')\n",
    "    \n",
    "    mean_male = calc_mean(images_male)\n",
    "    mean_female = calc_mean(images_female)\n",
    "    \n",
    "    covar_matr_male = calc_covar_matr(images_male, mean_male)\n",
    "    covar_matr_female = calc_covar_matr(images_female, mean_female)\n",
    "    \n",
    "    within_class_scat_matr = \n",
    "        \n",
    "def main():\n",
    "    run_fisher()\n",
    "\n",
    "if __name__ == \"__main__\":\n",
    "    main()\n"
   ]
  },
  {
   "cell_type": "code",
   "execution_count": null,
   "metadata": {},
   "outputs": [],
   "source": []
  }
 ],
 "metadata": {
  "kernelspec": {
   "display_name": "Python 3",
   "language": "python",
   "name": "python3"
  },
  "language_info": {
   "codemirror_mode": {
    "name": "ipython",
    "version": 3
   },
   "file_extension": ".py",
   "mimetype": "text/x-python",
   "name": "python",
   "nbconvert_exporter": "python",
   "pygments_lexer": "ipython3",
   "version": "3.7.0"
  }
 },
 "nbformat": 4,
 "nbformat_minor": 2
}
